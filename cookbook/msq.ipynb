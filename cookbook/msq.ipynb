{
 "cells": [
  {
   "cell_type": "code",
   "execution_count": 1,
   "metadata": {},
   "outputs": [
    {
     "name": "stdout",
     "output_type": "stream",
     "text": [
      "aksih\n"
     ]
    }
   ],
   "source": [
    "print(\"aksih\")"
   ]
  },
  {
   "cell_type": "code",
   "execution_count": 31,
   "metadata": {},
   "outputs": [
    {
     "data": {
      "text/plain": [
       "True"
      ]
     },
     "execution_count": 31,
     "metadata": {},
     "output_type": "execute_result"
    }
   ],
   "source": [
    "from langchain.llms import OpenAI\n",
    "from langchain.prompts import PromptTemplate\n",
    "from langchain.chains import LLMChain\n",
    "from langchain.chains import SequentialChain\n",
    "from langchain.callbacks import get_openai_callback\n",
    "import PyPDF2\n",
    "\n",
    "import pandas as pd\n",
    "import json\n",
    "import os\n",
    "import traceback\n",
    "from dotenv import load_dotenv\n",
    "load_dotenv()"
   ]
  },
  {
   "cell_type": "code",
   "execution_count": 32,
   "metadata": {},
   "outputs": [],
   "source": [
    "from langchain.chat_models import ChatOpenAI"
   ]
  },
  {
   "cell_type": "code",
   "execution_count": 33,
   "metadata": {},
   "outputs": [],
   "source": [
    "KEY = os.getenv(\"OPENAI_API_KEY\")"
   ]
  },
  {
   "cell_type": "code",
   "execution_count": 34,
   "metadata": {},
   "outputs": [],
   "source": [
    "llm = ChatOpenAI(openai_api_key=KEY,model_name=\"gpt-3.5-turbo\", temperature=0.5)"
   ]
  },
  {
   "cell_type": "code",
   "execution_count": 35,
   "metadata": {},
   "outputs": [],
   "source": [
    "RESPONSE_JSON = {\n",
    "    \"1\": {\n",
    "        \"mcq\": \"multiple choice question\",\n",
    "        \"options\": {\n",
    "            \"a\": \"choice here\",\n",
    "            \"b\": \"choice here\",\n",
    "            \"c\": \"choice here\",\n",
    "            \"d\": \"choice here\",\n",
    "        },\n",
    "        \"correct\": \"correct answer\",\n",
    "    },\n",
    "    \"2\": {\n",
    "        \"mcq\": \"multiple choice question\",\n",
    "        \"options\": {\n",
    "            \"a\": \"choice here\",\n",
    "            \"b\": \"choice here\",\n",
    "            \"c\": \"choice here\",\n",
    "            \"d\": \"choice here\",\n",
    "        },\n",
    "        \"correct\": \"correct answer\",\n",
    "    },\n",
    "    \"3\": {\n",
    "        \"mcq\": \"multiple choice question\",\n",
    "        \"options\": {\n",
    "            \"a\": \"choice here\",\n",
    "            \"b\": \"choice here\",\n",
    "            \"c\": \"choice here\",\n",
    "            \"d\": \"choice here\",\n",
    "        },\n",
    "        \"correct\": \"correct answer\",\n",
    "    },\n",
    "    \"4\": {\n",
    "        \"mcq\": \"multiple choice question\",\n",
    "        \"options\": {\n",
    "            \"a\": \"choice here\",\n",
    "            \"b\": \"choice here\",\n",
    "            \"c\": \"choice here\",\n",
    "            \"d\": \"choice here\",\n",
    "        },\n",
    "        \"correct\": \"correct answer\",\n",
    "    },\n",
    "    \"5\": {\n",
    "        \"mcq\": \"multiple choice question\",\n",
    "        \"options\": {\n",
    "            \"a\": \"choice here\",\n",
    "            \"b\": \"choice here\",\n",
    "            \"c\": \"choice here\",\n",
    "            \"d\": \"choice here\",\n",
    "        },\n",
    "        \"correct\": \"correct answer\",\n",
    "    },\n",
    "}"
   ]
  },
  {
   "cell_type": "code",
   "execution_count": 36,
   "metadata": {},
   "outputs": [],
   "source": [
    "TEMPLATE=\"\"\"\n",
    "Text:{text}\n",
    "You are an expert MCQ maker. Given the above text, it is your job to \\\n",
    "create a quiz  of {number} multiple choice questions for {subject} students in {tone} tone. \n",
    "Make sure the questions are not repeated and check all the questions to be conforming the text as well.\n",
    "Make sure to format your response like RESPONSE_JSON below  and use it as a guide. \\\n",
    "Ensure to make {number} MCQs\n",
    "### RESPONSE_JSON\n",
    "{response_json}\n",
    "\n",
    "\"\"\""
   ]
  },
  {
   "cell_type": "code",
   "execution_count": 37,
   "metadata": {},
   "outputs": [],
   "source": [
    "quiz_generation_prompt = PromptTemplate(\n",
    "    input_variables=[\"text\", \"number\", \"subject\", \"tone\", \"response_json\"],\n",
    "    template=TEMPLATE\n",
    "    )"
   ]
  },
  {
   "cell_type": "code",
   "execution_count": 38,
   "metadata": {},
   "outputs": [],
   "source": [
    "quiz_chain=LLMChain(llm=llm, prompt=quiz_generation_prompt, output_key=\"quiz\", verbose=True)"
   ]
  },
  {
   "cell_type": "code",
   "execution_count": 39,
   "metadata": {},
   "outputs": [],
   "source": [
    "TEMPLATE2=\"\"\"\n",
    "You are an expert english grammarian and writer. Given a Multiple Choice Quiz for {subject} students.\\\n",
    "You need to evaluate the complexity of the question and give a complete analysis of the quiz. Only use at max 50 words for complexity analysis. \n",
    "if the quiz is not at per with the cognitive and analytical abilities of the students,\\\n",
    "update the quiz questions which needs to be changed and change the tone such that it perfectly fits the student abilities\n",
    "Quiz_MCQs:\n",
    "{quiz}\n",
    "\n",
    "Check from an expert English Writer of the above quiz:\n",
    "\"\"\""
   ]
  },
  {
   "cell_type": "code",
   "execution_count": 40,
   "metadata": {},
   "outputs": [],
   "source": [
    "quiz_evaluation_prompt=PromptTemplate(input_variables=[\"subject\", \"quiz\"], template=TEMPLATE)"
   ]
  },
  {
   "cell_type": "code",
   "execution_count": 41,
   "metadata": {},
   "outputs": [],
   "source": [
    "review_chain=LLMChain(llm=llm, prompt=quiz_generation_prompt, output_key=\"review\", verbose=True)"
   ]
  },
  {
   "cell_type": "code",
   "execution_count": 42,
   "metadata": {},
   "outputs": [],
   "source": [
    "generate_evaluate_chain=SequentialChain(chains=[quiz_chain, review_chain], input_variables=[\"text\", \"number\", \"subject\", \"tone\", \"response_json\"],\n",
    "                                        output_variables=[\"quiz\", \"review\"], verbose=True,)"
   ]
  },
  {
   "cell_type": "code",
   "execution_count": 43,
   "metadata": {},
   "outputs": [
    {
     "data": {
      "text/plain": [
       "'C:\\\\Users\\\\akish\\\\MCQ_generator_LLM\\\\data.txt'"
      ]
     },
     "execution_count": 43,
     "metadata": {},
     "output_type": "execute_result"
    }
   ],
   "source": [
    "file_path=r\"C:\\Users\\akish\\MCQ_generator_LLM\\data.txt\"\n",
    "file_path"
   ]
  },
  {
   "cell_type": "code",
   "execution_count": 44,
   "metadata": {},
   "outputs": [],
   "source": [
    "with open(file_path, 'r') as file:\n",
    "    TEXT = file.read()"
   ]
  },
  {
   "cell_type": "code",
   "execution_count": 45,
   "metadata": {},
   "outputs": [
    {
     "name": "stdout",
     "output_type": "stream",
     "text": [
      "The history of artificial intelligence (AI) began in antiquity, with myths, stories and rumors of artificial beings endowed with intelligence or consciousness by master craftsmen. The seeds of modern AI were planted by philosophers who attempted to describe the process of human thinking as the mechanical manipulation of symbols. This work culminated in the invention of the programmable digital computer in the 1940s, a machine based on the abstract essence of mathematical reasoning. This device and the ideas behind it inspired a handful of scientists to begin seriously discussing the possibility of building an electronic brain.\n",
      "\n",
      "Alan Turing was the first person to carry out substantial research in the field that he called Machine Intelligence.[1] The field of AI research was founded at a workshop held on the campus of Dartmouth College, USA during the summer of 1956.[2] Those who attended would become the leaders of AI research for decades. Many of them predicted that a machine as intelligent as a human being would exist in no more than a generation, and they were given millions of dollars to make this vision come true.[3]\n",
      "\n",
      "Eventually, it became obvious that researchers had grossly underestimated the difficulty of the project.[4] In 1974, in response to the criticism from James Lighthill and ongoing pressure from congress, the U.S. and British Governments stopped funding undirected research into artificial intelligence, and the difficult years that followed would later be known as an \"AI winter\". Seven years later, a visionary initiative by the Japanese Government inspired governments and industry to provide AI with billions of dollars, but by the late 1980s the investors became disillusioned and withdrew funding again.\n",
      "\n",
      "Investment and interest in AI boomed in the 2020s when machine learning was successfully applied to many problems in academia and industry due to new methods, the application of powerful computer hardware, and the collection of immense data sets.\n"
     ]
    }
   ],
   "source": [
    "print(TEXT)"
   ]
  },
  {
   "cell_type": "code",
   "execution_count": 46,
   "metadata": {},
   "outputs": [
    {
     "data": {
      "text/plain": [
       "'{\"1\": {\"mcq\": \"multiple choice question\", \"options\": {\"a\": \"choice here\", \"b\": \"choice here\", \"c\": \"choice here\", \"d\": \"choice here\"}, \"correct\": \"correct answer\"}, \"2\": {\"mcq\": \"multiple choice question\", \"options\": {\"a\": \"choice here\", \"b\": \"choice here\", \"c\": \"choice here\", \"d\": \"choice here\"}, \"correct\": \"correct answer\"}, \"3\": {\"mcq\": \"multiple choice question\", \"options\": {\"a\": \"choice here\", \"b\": \"choice here\", \"c\": \"choice here\", \"d\": \"choice here\"}, \"correct\": \"correct answer\"}, \"4\": {\"mcq\": \"multiple choice question\", \"options\": {\"a\": \"choice here\", \"b\": \"choice here\", \"c\": \"choice here\", \"d\": \"choice here\"}, \"correct\": \"correct answer\"}, \"5\": {\"mcq\": \"multiple choice question\", \"options\": {\"a\": \"choice here\", \"b\": \"choice here\", \"c\": \"choice here\", \"d\": \"choice here\"}, \"correct\": \"correct answer\"}}'"
      ]
     },
     "execution_count": 46,
     "metadata": {},
     "output_type": "execute_result"
    }
   ],
   "source": [
    "json.dumps(RESPONSE_JSON)"
   ]
  },
  {
   "cell_type": "code",
   "execution_count": 47,
   "metadata": {},
   "outputs": [],
   "source": [
    "NUMBER=5 \n",
    "SUBJECT=\"artificial intelligence\"\n",
    "TONE=\"simple\""
   ]
  },
  {
   "cell_type": "code",
   "execution_count": 48,
   "metadata": {},
   "outputs": [
    {
     "name": "stdout",
     "output_type": "stream",
     "text": [
      "\n",
      "\n",
      "\u001b[1m> Entering new SequentialChain chain...\u001b[0m\n",
      "\n",
      "\n",
      "\u001b[1m> Entering new LLMChain chain...\u001b[0m\n",
      "Prompt after formatting:\n",
      "\u001b[32;1m\u001b[1;3m\n",
      "Text:The history of artificial intelligence (AI) began in antiquity, with myths, stories and rumors of artificial beings endowed with intelligence or consciousness by master craftsmen. The seeds of modern AI were planted by philosophers who attempted to describe the process of human thinking as the mechanical manipulation of symbols. This work culminated in the invention of the programmable digital computer in the 1940s, a machine based on the abstract essence of mathematical reasoning. This device and the ideas behind it inspired a handful of scientists to begin seriously discussing the possibility of building an electronic brain.\n",
      "\n",
      "Alan Turing was the first person to carry out substantial research in the field that he called Machine Intelligence.[1] The field of AI research was founded at a workshop held on the campus of Dartmouth College, USA during the summer of 1956.[2] Those who attended would become the leaders of AI research for decades. Many of them predicted that a machine as intelligent as a human being would exist in no more than a generation, and they were given millions of dollars to make this vision come true.[3]\n",
      "\n",
      "Eventually, it became obvious that researchers had grossly underestimated the difficulty of the project.[4] In 1974, in response to the criticism from James Lighthill and ongoing pressure from congress, the U.S. and British Governments stopped funding undirected research into artificial intelligence, and the difficult years that followed would later be known as an \"AI winter\". Seven years later, a visionary initiative by the Japanese Government inspired governments and industry to provide AI with billions of dollars, but by the late 1980s the investors became disillusioned and withdrew funding again.\n",
      "\n",
      "Investment and interest in AI boomed in the 2020s when machine learning was successfully applied to many problems in academia and industry due to new methods, the application of powerful computer hardware, and the collection of immense data sets.\n",
      "You are an expert MCQ maker. Given the above text, it is your job to create a quiz  of 5 multiple choice questions for artificial intelligence students in simple tone. \n",
      "Make sure the questions are not repeated and check all the questions to be conforming the text as well.\n",
      "Make sure to format your response like RESPONSE_JSON below  and use it as a guide. Ensure to make 5 MCQs\n",
      "### RESPONSE_JSON\n",
      "{\"1\": {\"mcq\": \"multiple choice question\", \"options\": {\"a\": \"choice here\", \"b\": \"choice here\", \"c\": \"choice here\", \"d\": \"choice here\"}, \"correct\": \"correct answer\"}, \"2\": {\"mcq\": \"multiple choice question\", \"options\": {\"a\": \"choice here\", \"b\": \"choice here\", \"c\": \"choice here\", \"d\": \"choice here\"}, \"correct\": \"correct answer\"}, \"3\": {\"mcq\": \"multiple choice question\", \"options\": {\"a\": \"choice here\", \"b\": \"choice here\", \"c\": \"choice here\", \"d\": \"choice here\"}, \"correct\": \"correct answer\"}, \"4\": {\"mcq\": \"multiple choice question\", \"options\": {\"a\": \"choice here\", \"b\": \"choice here\", \"c\": \"choice here\", \"d\": \"choice here\"}, \"correct\": \"correct answer\"}, \"5\": {\"mcq\": \"multiple choice question\", \"options\": {\"a\": \"choice here\", \"b\": \"choice here\", \"c\": \"choice here\", \"d\": \"choice here\"}, \"correct\": \"correct answer\"}}\n",
      "\n",
      "\u001b[0m\n",
      "\n",
      "\u001b[1m> Finished chain.\u001b[0m\n",
      "\n",
      "\n",
      "\u001b[1m> Entering new LLMChain chain...\u001b[0m\n",
      "Prompt after formatting:\n",
      "\u001b[32;1m\u001b[1;3m\n",
      "Text:The history of artificial intelligence (AI) began in antiquity, with myths, stories and rumors of artificial beings endowed with intelligence or consciousness by master craftsmen. The seeds of modern AI were planted by philosophers who attempted to describe the process of human thinking as the mechanical manipulation of symbols. This work culminated in the invention of the programmable digital computer in the 1940s, a machine based on the abstract essence of mathematical reasoning. This device and the ideas behind it inspired a handful of scientists to begin seriously discussing the possibility of building an electronic brain.\n",
      "\n",
      "Alan Turing was the first person to carry out substantial research in the field that he called Machine Intelligence.[1] The field of AI research was founded at a workshop held on the campus of Dartmouth College, USA during the summer of 1956.[2] Those who attended would become the leaders of AI research for decades. Many of them predicted that a machine as intelligent as a human being would exist in no more than a generation, and they were given millions of dollars to make this vision come true.[3]\n",
      "\n",
      "Eventually, it became obvious that researchers had grossly underestimated the difficulty of the project.[4] In 1974, in response to the criticism from James Lighthill and ongoing pressure from congress, the U.S. and British Governments stopped funding undirected research into artificial intelligence, and the difficult years that followed would later be known as an \"AI winter\". Seven years later, a visionary initiative by the Japanese Government inspired governments and industry to provide AI with billions of dollars, but by the late 1980s the investors became disillusioned and withdrew funding again.\n",
      "\n",
      "Investment and interest in AI boomed in the 2020s when machine learning was successfully applied to many problems in academia and industry due to new methods, the application of powerful computer hardware, and the collection of immense data sets.\n",
      "You are an expert MCQ maker. Given the above text, it is your job to create a quiz  of 5 multiple choice questions for artificial intelligence students in simple tone. \n",
      "Make sure the questions are not repeated and check all the questions to be conforming the text as well.\n",
      "Make sure to format your response like RESPONSE_JSON below  and use it as a guide. Ensure to make 5 MCQs\n",
      "### RESPONSE_JSON\n",
      "{\"1\": {\"mcq\": \"multiple choice question\", \"options\": {\"a\": \"choice here\", \"b\": \"choice here\", \"c\": \"choice here\", \"d\": \"choice here\"}, \"correct\": \"correct answer\"}, \"2\": {\"mcq\": \"multiple choice question\", \"options\": {\"a\": \"choice here\", \"b\": \"choice here\", \"c\": \"choice here\", \"d\": \"choice here\"}, \"correct\": \"correct answer\"}, \"3\": {\"mcq\": \"multiple choice question\", \"options\": {\"a\": \"choice here\", \"b\": \"choice here\", \"c\": \"choice here\", \"d\": \"choice here\"}, \"correct\": \"correct answer\"}, \"4\": {\"mcq\": \"multiple choice question\", \"options\": {\"a\": \"choice here\", \"b\": \"choice here\", \"c\": \"choice here\", \"d\": \"choice here\"}, \"correct\": \"correct answer\"}, \"5\": {\"mcq\": \"multiple choice question\", \"options\": {\"a\": \"choice here\", \"b\": \"choice here\", \"c\": \"choice here\", \"d\": \"choice here\"}, \"correct\": \"correct answer\"}}\n",
      "\n",
      "\u001b[0m\n",
      "\n",
      "\u001b[1m> Finished chain.\u001b[0m\n",
      "\n",
      "\u001b[1m> Finished chain.\u001b[0m\n"
     ]
    }
   ],
   "source": [
    "#https://python.langchain.com/docs/modules/model_io/llms/token_usage_tracking\n",
    "\n",
    "#How to setup Token Usage Tracking in LangChain\n",
    "with get_openai_callback() as cb:\n",
    "    response=generate_evaluate_chain(\n",
    "        {\n",
    "            \"text\": TEXT,\n",
    "            \"number\": NUMBER,\n",
    "            \"subject\":SUBJECT,\n",
    "            \"tone\": TONE,\n",
    "            \"response_json\": json.dumps(RESPONSE_JSON)\n",
    "        }\n",
    "        )"
   ]
  },
  {
   "cell_type": "code",
   "execution_count": 49,
   "metadata": {},
   "outputs": [
    {
     "name": "stdout",
     "output_type": "stream",
     "text": [
      "Total Tokens:2166\n",
      "Prompt Tokens:1448\n",
      "Completion Tokens:718\n",
      "Total Cost:0.003608\n"
     ]
    }
   ],
   "source": [
    "print(f\"Total Tokens:{cb.total_tokens}\")\n",
    "print(f\"Prompt Tokens:{cb.prompt_tokens}\")\n",
    "print(f\"Completion Tokens:{cb.completion_tokens}\")\n",
    "print(f\"Total Cost:{cb.total_cost}\")"
   ]
  },
  {
   "cell_type": "code",
   "execution_count": 50,
   "metadata": {},
   "outputs": [
    {
     "data": {
      "text/plain": [
       "{'text': 'The history of artificial intelligence (AI) began in antiquity, with myths, stories and rumors of artificial beings endowed with intelligence or consciousness by master craftsmen. The seeds of modern AI were planted by philosophers who attempted to describe the process of human thinking as the mechanical manipulation of symbols. This work culminated in the invention of the programmable digital computer in the 1940s, a machine based on the abstract essence of mathematical reasoning. This device and the ideas behind it inspired a handful of scientists to begin seriously discussing the possibility of building an electronic brain.\\n\\nAlan Turing was the first person to carry out substantial research in the field that he called Machine Intelligence.[1] The field of AI research was founded at a workshop held on the campus of Dartmouth College, USA during the summer of 1956.[2] Those who attended would become the leaders of AI research for decades. Many of them predicted that a machine as intelligent as a human being would exist in no more than a generation, and they were given millions of dollars to make this vision come true.[3]\\n\\nEventually, it became obvious that researchers had grossly underestimated the difficulty of the project.[4] In 1974, in response to the criticism from James Lighthill and ongoing pressure from congress, the U.S. and British Governments stopped funding undirected research into artificial intelligence, and the difficult years that followed would later be known as an \"AI winter\". Seven years later, a visionary initiative by the Japanese Government inspired governments and industry to provide AI with billions of dollars, but by the late 1980s the investors became disillusioned and withdrew funding again.\\n\\nInvestment and interest in AI boomed in the 2020s when machine learning was successfully applied to many problems in academia and industry due to new methods, the application of powerful computer hardware, and the collection of immense data sets.',\n",
       " 'number': 5,\n",
       " 'subject': 'artificial intelligence',\n",
       " 'tone': 'simple',\n",
       " 'response_json': '{\"1\": {\"mcq\": \"multiple choice question\", \"options\": {\"a\": \"choice here\", \"b\": \"choice here\", \"c\": \"choice here\", \"d\": \"choice here\"}, \"correct\": \"correct answer\"}, \"2\": {\"mcq\": \"multiple choice question\", \"options\": {\"a\": \"choice here\", \"b\": \"choice here\", \"c\": \"choice here\", \"d\": \"choice here\"}, \"correct\": \"correct answer\"}, \"3\": {\"mcq\": \"multiple choice question\", \"options\": {\"a\": \"choice here\", \"b\": \"choice here\", \"c\": \"choice here\", \"d\": \"choice here\"}, \"correct\": \"correct answer\"}, \"4\": {\"mcq\": \"multiple choice question\", \"options\": {\"a\": \"choice here\", \"b\": \"choice here\", \"c\": \"choice here\", \"d\": \"choice here\"}, \"correct\": \"correct answer\"}, \"5\": {\"mcq\": \"multiple choice question\", \"options\": {\"a\": \"choice here\", \"b\": \"choice here\", \"c\": \"choice here\", \"d\": \"choice here\"}, \"correct\": \"correct answer\"}}',\n",
       " 'quiz': '{\"1\": {\"mcq\": \"Who is considered the first person to carry out substantial research in the field of artificial intelligence?\", \"options\": {\"a\": \"Alan Turing\", \"b\": \"James Lighthill\", \"c\": \"Dartmouth College\", \"d\": \"Japanese Government\"}, \"correct\": \"a\"}, \"2\": {\"mcq\": \"When and where was the field of AI research founded?\", \"options\": {\"a\": \"In the 1940s at Dartmouth College\", \"b\": \"In the 1950s at Dartmouth College\", \"c\": \"In the 1940s at MIT\", \"d\": \"In the 1950s at MIT\"}, \"correct\": \"b\"}, \"3\": {\"mcq\": \"What event led to the funding for undirected research into artificial intelligence being stopped?\", \"options\": {\"a\": \"Criticism from James Lighthill\", \"b\": \"Ongoing pressure from congress\", \"c\": \"Both a and b\", \"d\": \"None of the above\"}, \"correct\": \"c\"}, \"4\": {\"mcq\": \"What term is used to describe the period of decreased funding and interest in AI after the 1970s?\", \"options\": {\"a\": \"AI winter\", \"b\": \"AI summer\", \"c\": \"AI spring\", \"d\": \"AI fall\"}, \"correct\": \"a\"}, \"5\": {\"mcq\": \"When did investment and interest in AI boom again?\", \"options\": {\"a\": \"In the 1940s\", \"b\": \"In the 1970s\", \"c\": \"In the 1980s\", \"d\": \"In the 2020s\"}, \"correct\": \"d\"}}',\n",
       " 'review': '{\"1\": {\"mcq\": \"What is considered the birth of AI research?\", \"options\": {\"a\": \"The invention of the programmable digital computer\", \"b\": \"The workshop at Dartmouth College\", \"c\": \"The research by Alan Turing\", \"d\": \"The funding by the U.S. and British Governments\"}, \"correct\": \"b\"}, \"2\": {\"mcq\": \"What term did Alan Turing use to describe his research in AI?\", \"options\": {\"a\": \"Machine Consciousness\", \"b\": \"Artificial Beings\", \"c\": \"Machine Intelligence\", \"d\": \"Symbol Manipulation\"}, \"correct\": \"c\"}, \"3\": {\"mcq\": \"What happened in response to the criticism from James Lighthill and ongoing pressure from congress?\", \"options\": {\"a\": \"The birth of AI research\", \"b\": \"The funding for AI research stopped\", \"c\": \"The development of the programmable digital computer\", \"d\": \"The application of powerful computer hardware\"}, \"correct\": \"b\"}, \"4\": {\"mcq\": \"What is the term used to describe the period of reduced funding and interest in AI research?\", \"options\": {\"a\": \"AI Winter\", \"b\": \"AI Boom\", \"c\": \"AI Revolution\", \"d\": \"AI Renaissance\"}, \"correct\": \"a\"}, \"5\": {\"mcq\": \"What led to the boom in investment and interest in AI in the 2020s?\", \"options\": {\"a\": \"The development of machine learning\", \"b\": \"The workshop at Dartmouth College\", \"c\": \"The research by Alan Turing\", \"d\": \"The birth of AI research\"}, \"correct\": \"a\"}}'}"
      ]
     },
     "execution_count": 50,
     "metadata": {},
     "output_type": "execute_result"
    }
   ],
   "source": [
    "response"
   ]
  },
  {
   "cell_type": "code",
   "execution_count": 51,
   "metadata": {},
   "outputs": [],
   "source": [
    "quiz=response.get(\"quiz\")"
   ]
  },
  {
   "cell_type": "code",
   "execution_count": 52,
   "metadata": {},
   "outputs": [],
   "source": [
    "quiz=json.loads(quiz)"
   ]
  },
  {
   "cell_type": "code",
   "execution_count": 53,
   "metadata": {},
   "outputs": [
    {
     "data": {
      "text/plain": [
       "{'1': {'mcq': 'Who is considered the first person to carry out substantial research in the field of artificial intelligence?',\n",
       "  'options': {'a': 'Alan Turing',\n",
       "   'b': 'James Lighthill',\n",
       "   'c': 'Dartmouth College',\n",
       "   'd': 'Japanese Government'},\n",
       "  'correct': 'a'},\n",
       " '2': {'mcq': 'When and where was the field of AI research founded?',\n",
       "  'options': {'a': 'In the 1940s at Dartmouth College',\n",
       "   'b': 'In the 1950s at Dartmouth College',\n",
       "   'c': 'In the 1940s at MIT',\n",
       "   'd': 'In the 1950s at MIT'},\n",
       "  'correct': 'b'},\n",
       " '3': {'mcq': 'What event led to the funding for undirected research into artificial intelligence being stopped?',\n",
       "  'options': {'a': 'Criticism from James Lighthill',\n",
       "   'b': 'Ongoing pressure from congress',\n",
       "   'c': 'Both a and b',\n",
       "   'd': 'None of the above'},\n",
       "  'correct': 'c'},\n",
       " '4': {'mcq': 'What term is used to describe the period of decreased funding and interest in AI after the 1970s?',\n",
       "  'options': {'a': 'AI winter',\n",
       "   'b': 'AI summer',\n",
       "   'c': 'AI spring',\n",
       "   'd': 'AI fall'},\n",
       "  'correct': 'a'},\n",
       " '5': {'mcq': 'When did investment and interest in AI boom again?',\n",
       "  'options': {'a': 'In the 1940s',\n",
       "   'b': 'In the 1970s',\n",
       "   'c': 'In the 1980s',\n",
       "   'd': 'In the 2020s'},\n",
       "  'correct': 'd'}}"
      ]
     },
     "execution_count": 53,
     "metadata": {},
     "output_type": "execute_result"
    }
   ],
   "source": [
    "quiz"
   ]
  },
  {
   "cell_type": "code",
   "execution_count": 55,
   "metadata": {},
   "outputs": [
    {
     "data": {
      "text/plain": [
       "{'1': {'mcq': 'What is considered the birth of AI research?',\n",
       "  'options': {'a': 'The invention of the programmable digital computer',\n",
       "   'b': 'The workshop at Dartmouth College',\n",
       "   'c': 'The research by Alan Turing',\n",
       "   'd': 'The funding by the U.S. and British Governments'},\n",
       "  'correct': 'b'},\n",
       " '2': {'mcq': 'What term did Alan Turing use to describe his research in AI?',\n",
       "  'options': {'a': 'Machine Consciousness',\n",
       "   'b': 'Artificial Beings',\n",
       "   'c': 'Machine Intelligence',\n",
       "   'd': 'Symbol Manipulation'},\n",
       "  'correct': 'c'},\n",
       " '3': {'mcq': 'What happened in response to the criticism from James Lighthill and ongoing pressure from congress?',\n",
       "  'options': {'a': 'The birth of AI research',\n",
       "   'b': 'The funding for AI research stopped',\n",
       "   'c': 'The development of the programmable digital computer',\n",
       "   'd': 'The application of powerful computer hardware'},\n",
       "  'correct': 'b'},\n",
       " '4': {'mcq': 'What is the term used to describe the period of reduced funding and interest in AI research?',\n",
       "  'options': {'a': 'AI Winter',\n",
       "   'b': 'AI Boom',\n",
       "   'c': 'AI Revolution',\n",
       "   'd': 'AI Renaissance'},\n",
       "  'correct': 'a'},\n",
       " '5': {'mcq': 'What led to the boom in investment and interest in AI in the 2020s?',\n",
       "  'options': {'a': 'The development of machine learning',\n",
       "   'b': 'The workshop at Dartmouth College',\n",
       "   'c': 'The research by Alan Turing',\n",
       "   'd': 'The birth of AI research'},\n",
       "  'correct': 'a'}}"
      ]
     },
     "execution_count": 55,
     "metadata": {},
     "output_type": "execute_result"
    }
   ],
   "source": [
    "review = json.loads(response.get(\"review\"))\n",
    "review"
   ]
  },
  {
   "cell_type": "code",
   "execution_count": 56,
   "metadata": {},
   "outputs": [],
   "source": [
    "quiz_table_data = []\n",
    "for key, value in quiz.items():\n",
    "    mcq = value[\"mcq\"]\n",
    "    options = \" | \".join(\n",
    "        [\n",
    "            f\"{option}: {option_value}\"\n",
    "            for option, option_value in value[\"options\"].items()\n",
    "            ]\n",
    "        )\n",
    "    correct = value[\"correct\"]\n",
    "    quiz_table_data.append({\"MCQ\": mcq, \"Choices\": options, \"Correct\": correct})"
   ]
  },
  {
   "cell_type": "code",
   "execution_count": 59,
   "metadata": {},
   "outputs": [
    {
     "data": {
      "text/plain": [
       "[{'MCQ': 'Who is considered the first person to carry out substantial research in the field of artificial intelligence?',\n",
       "  'Choices': 'a: Alan Turing | b: James Lighthill | c: Dartmouth College | d: Japanese Government',\n",
       "  'Correct': 'a'},\n",
       " {'MCQ': 'When and where was the field of AI research founded?',\n",
       "  'Choices': 'a: In the 1940s at Dartmouth College | b: In the 1950s at Dartmouth College | c: In the 1940s at MIT | d: In the 1950s at MIT',\n",
       "  'Correct': 'b'},\n",
       " {'MCQ': 'What event led to the funding for undirected research into artificial intelligence being stopped?',\n",
       "  'Choices': 'a: Criticism from James Lighthill | b: Ongoing pressure from congress | c: Both a and b | d: None of the above',\n",
       "  'Correct': 'c'},\n",
       " {'MCQ': 'What term is used to describe the period of decreased funding and interest in AI after the 1970s?',\n",
       "  'Choices': 'a: AI winter | b: AI summer | c: AI spring | d: AI fall',\n",
       "  'Correct': 'a'},\n",
       " {'MCQ': 'When did investment and interest in AI boom again?',\n",
       "  'Choices': 'a: In the 1940s | b: In the 1970s | c: In the 1980s | d: In the 2020s',\n",
       "  'Correct': 'd'}]"
      ]
     },
     "execution_count": 59,
     "metadata": {},
     "output_type": "execute_result"
    }
   ],
   "source": [
    "quiz_table_data"
   ]
  },
  {
   "cell_type": "code",
   "execution_count": 57,
   "metadata": {},
   "outputs": [],
   "source": [
    "quiz=pd.DataFrame(quiz_table_data)"
   ]
  },
  {
   "cell_type": "markdown",
   "metadata": {},
   "source": []
  },
  {
   "cell_type": "code",
   "execution_count": 58,
   "metadata": {},
   "outputs": [],
   "source": [
    "quiz.to_csv(\"AI_quiz.csv\",index=False)"
   ]
  },
  {
   "cell_type": "code",
   "execution_count": 60,
   "metadata": {},
   "outputs": [],
   "source": [
    "review_table_data = []\n",
    "for key, value in review.items():\n",
    "    mcq = value[\"mcq\"]\n",
    "    options = \" | \".join(\n",
    "        [\n",
    "            f\"{option}: {option_value}\"\n",
    "            for option, option_value in value[\"options\"].items()\n",
    "            ]\n",
    "        )\n",
    "    correct = value[\"correct\"]\n",
    "    review_table_data.append({\"MCQ\": mcq, \"Choices\": options, \"Correct\": correct})"
   ]
  },
  {
   "cell_type": "code",
   "execution_count": 61,
   "metadata": {},
   "outputs": [
    {
     "data": {
      "text/plain": [
       "[{'MCQ': 'What is considered the birth of AI research?',\n",
       "  'Choices': 'a: The invention of the programmable digital computer | b: The workshop at Dartmouth College | c: The research by Alan Turing | d: The funding by the U.S. and British Governments',\n",
       "  'Correct': 'b'},\n",
       " {'MCQ': 'What term did Alan Turing use to describe his research in AI?',\n",
       "  'Choices': 'a: Machine Consciousness | b: Artificial Beings | c: Machine Intelligence | d: Symbol Manipulation',\n",
       "  'Correct': 'c'},\n",
       " {'MCQ': 'What happened in response to the criticism from James Lighthill and ongoing pressure from congress?',\n",
       "  'Choices': 'a: The birth of AI research | b: The funding for AI research stopped | c: The development of the programmable digital computer | d: The application of powerful computer hardware',\n",
       "  'Correct': 'b'},\n",
       " {'MCQ': 'What is the term used to describe the period of reduced funding and interest in AI research?',\n",
       "  'Choices': 'a: AI Winter | b: AI Boom | c: AI Revolution | d: AI Renaissance',\n",
       "  'Correct': 'a'},\n",
       " {'MCQ': 'What led to the boom in investment and interest in AI in the 2020s?',\n",
       "  'Choices': 'a: The development of machine learning | b: The workshop at Dartmouth College | c: The research by Alan Turing | d: The birth of AI research',\n",
       "  'Correct': 'a'}]"
      ]
     },
     "execution_count": 61,
     "metadata": {},
     "output_type": "execute_result"
    }
   ],
   "source": [
    "review_table_data"
   ]
  },
  {
   "cell_type": "code",
   "execution_count": 62,
   "metadata": {},
   "outputs": [],
   "source": [
    "review=pd.DataFrame(review_table_data)\n",
    "review.to_csv(\"review.csv\",index=False)"
   ]
  },
  {
   "cell_type": "code",
   "execution_count": 63,
   "metadata": {},
   "outputs": [
    {
     "data": {
      "text/html": [
       "<div>\n",
       "<style scoped>\n",
       "    .dataframe tbody tr th:only-of-type {\n",
       "        vertical-align: middle;\n",
       "    }\n",
       "\n",
       "    .dataframe tbody tr th {\n",
       "        vertical-align: top;\n",
       "    }\n",
       "\n",
       "    .dataframe thead th {\n",
       "        text-align: right;\n",
       "    }\n",
       "</style>\n",
       "<table border=\"1\" class=\"dataframe\">\n",
       "  <thead>\n",
       "    <tr style=\"text-align: right;\">\n",
       "      <th></th>\n",
       "      <th>MCQ</th>\n",
       "      <th>Choices</th>\n",
       "      <th>Correct</th>\n",
       "    </tr>\n",
       "  </thead>\n",
       "  <tbody>\n",
       "    <tr>\n",
       "      <th>0</th>\n",
       "      <td>Who is considered the first person to carry ou...</td>\n",
       "      <td>a: Alan Turing | b: James Lighthill | c: Dartm...</td>\n",
       "      <td>a</td>\n",
       "    </tr>\n",
       "    <tr>\n",
       "      <th>1</th>\n",
       "      <td>When and where was the field of AI research fo...</td>\n",
       "      <td>a: In the 1940s at Dartmouth College | b: In t...</td>\n",
       "      <td>b</td>\n",
       "    </tr>\n",
       "    <tr>\n",
       "      <th>2</th>\n",
       "      <td>What event led to the funding for undirected r...</td>\n",
       "      <td>a: Criticism from James Lighthill | b: Ongoing...</td>\n",
       "      <td>c</td>\n",
       "    </tr>\n",
       "    <tr>\n",
       "      <th>3</th>\n",
       "      <td>What term is used to describe the period of de...</td>\n",
       "      <td>a: AI winter | b: AI summer | c: AI spring | d...</td>\n",
       "      <td>a</td>\n",
       "    </tr>\n",
       "    <tr>\n",
       "      <th>4</th>\n",
       "      <td>When did investment and interest in AI boom ag...</td>\n",
       "      <td>a: In the 1940s | b: In the 1970s | c: In the ...</td>\n",
       "      <td>d</td>\n",
       "    </tr>\n",
       "  </tbody>\n",
       "</table>\n",
       "</div>"
      ],
      "text/plain": [
       "                                                 MCQ  \\\n",
       "0  Who is considered the first person to carry ou...   \n",
       "1  When and where was the field of AI research fo...   \n",
       "2  What event led to the funding for undirected r...   \n",
       "3  What term is used to describe the period of de...   \n",
       "4  When did investment and interest in AI boom ag...   \n",
       "\n",
       "                                             Choices Correct  \n",
       "0  a: Alan Turing | b: James Lighthill | c: Dartm...       a  \n",
       "1  a: In the 1940s at Dartmouth College | b: In t...       b  \n",
       "2  a: Criticism from James Lighthill | b: Ongoing...       c  \n",
       "3  a: AI winter | b: AI summer | c: AI spring | d...       a  \n",
       "4  a: In the 1940s | b: In the 1970s | c: In the ...       d  "
      ]
     },
     "execution_count": 63,
     "metadata": {},
     "output_type": "execute_result"
    }
   ],
   "source": [
    "quiz"
   ]
  },
  {
   "cell_type": "code",
   "execution_count": 64,
   "metadata": {},
   "outputs": [
    {
     "data": {
      "text/html": [
       "<div>\n",
       "<style scoped>\n",
       "    .dataframe tbody tr th:only-of-type {\n",
       "        vertical-align: middle;\n",
       "    }\n",
       "\n",
       "    .dataframe tbody tr th {\n",
       "        vertical-align: top;\n",
       "    }\n",
       "\n",
       "    .dataframe thead th {\n",
       "        text-align: right;\n",
       "    }\n",
       "</style>\n",
       "<table border=\"1\" class=\"dataframe\">\n",
       "  <thead>\n",
       "    <tr style=\"text-align: right;\">\n",
       "      <th></th>\n",
       "      <th>MCQ</th>\n",
       "      <th>Choices</th>\n",
       "      <th>Correct</th>\n",
       "    </tr>\n",
       "  </thead>\n",
       "  <tbody>\n",
       "    <tr>\n",
       "      <th>0</th>\n",
       "      <td>What is considered the birth of AI research?</td>\n",
       "      <td>a: The invention of the programmable digital c...</td>\n",
       "      <td>b</td>\n",
       "    </tr>\n",
       "    <tr>\n",
       "      <th>1</th>\n",
       "      <td>What term did Alan Turing use to describe his ...</td>\n",
       "      <td>a: Machine Consciousness | b: Artificial Being...</td>\n",
       "      <td>c</td>\n",
       "    </tr>\n",
       "    <tr>\n",
       "      <th>2</th>\n",
       "      <td>What happened in response to the criticism fro...</td>\n",
       "      <td>a: The birth of AI research | b: The funding f...</td>\n",
       "      <td>b</td>\n",
       "    </tr>\n",
       "    <tr>\n",
       "      <th>3</th>\n",
       "      <td>What is the term used to describe the period o...</td>\n",
       "      <td>a: AI Winter | b: AI Boom | c: AI Revolution |...</td>\n",
       "      <td>a</td>\n",
       "    </tr>\n",
       "    <tr>\n",
       "      <th>4</th>\n",
       "      <td>What led to the boom in investment and interes...</td>\n",
       "      <td>a: The development of machine learning | b: Th...</td>\n",
       "      <td>a</td>\n",
       "    </tr>\n",
       "  </tbody>\n",
       "</table>\n",
       "</div>"
      ],
      "text/plain": [
       "                                                 MCQ  \\\n",
       "0       What is considered the birth of AI research?   \n",
       "1  What term did Alan Turing use to describe his ...   \n",
       "2  What happened in response to the criticism fro...   \n",
       "3  What is the term used to describe the period o...   \n",
       "4  What led to the boom in investment and interes...   \n",
       "\n",
       "                                             Choices Correct  \n",
       "0  a: The invention of the programmable digital c...       b  \n",
       "1  a: Machine Consciousness | b: Artificial Being...       c  \n",
       "2  a: The birth of AI research | b: The funding f...       b  \n",
       "3  a: AI Winter | b: AI Boom | c: AI Revolution |...       a  \n",
       "4  a: The development of machine learning | b: Th...       a  "
      ]
     },
     "execution_count": 64,
     "metadata": {},
     "output_type": "execute_result"
    }
   ],
   "source": [
    "review"
   ]
  },
  {
   "cell_type": "code",
   "execution_count": null,
   "metadata": {},
   "outputs": [],
   "source": []
  }
 ],
 "metadata": {
  "kernelspec": {
   "display_name": "chatenv",
   "language": "python",
   "name": "python3"
  },
  "language_info": {
   "codemirror_mode": {
    "name": "ipython",
    "version": 3
   },
   "file_extension": ".py",
   "mimetype": "text/x-python",
   "name": "python",
   "nbconvert_exporter": "python",
   "pygments_lexer": "ipython3",
   "version": "3.8.10"
  }
 },
 "nbformat": 4,
 "nbformat_minor": 2
}
